{
 "cells": [
  {
   "cell_type": "code",
   "execution_count": 1,
   "id": "179f9fa6",
   "metadata": {},
   "outputs": [],
   "source": [
    "import glob\n",
    "import cv2\n",
    "import os"
   ]
  },
  {
   "cell_type": "code",
   "execution_count": 2,
   "id": "2e12d567",
   "metadata": {},
   "outputs": [],
   "source": [
    "image_path = 'C:/Users/BIT/opencvEx/ch01/images/*.jpg'\n",
    "img_files = glob.glob(image_path)"
   ]
  },
  {
   "cell_type": "code",
   "execution_count": 3,
   "id": "223e33a8",
   "metadata": {},
   "outputs": [
    {
     "data": {
      "text/plain": [
       "['C:/Users/BIT/opencvEx/ch01/images\\\\autumn_forest_park_128379_1920x1080.jpg',\n",
       " 'C:/Users/BIT/opencvEx/ch01/images\\\\boat_mountains_lake_135258_1920x1080.jpg',\n",
       " 'C:/Users/BIT/opencvEx/ch01/images\\\\forest_fog_trees_128751_1920x1080.jpg',\n",
       " 'C:/Users/BIT/opencvEx/ch01/images\\\\pier_dock_sea_dusk_shore_118549_1920x1080.jpg',\n",
       " 'C:/Users/BIT/opencvEx/ch01/images\\\\road_marking_evening_clouds_horizon_120298_1920x1080.jpg']"
      ]
     },
     "execution_count": 3,
     "metadata": {},
     "output_type": "execute_result"
    }
   ],
   "source": [
    "img_files"
   ]
  },
  {
   "cell_type": "code",
   "execution_count": 4,
   "id": "4dc02ecc",
   "metadata": {},
   "outputs": [
    {
     "name": "stdout",
     "output_type": "stream",
     "text": [
      "\\\n"
     ]
    }
   ],
   "source": [
    "print(os.path.sep)"
   ]
  },
  {
   "cell_type": "code",
   "execution_count": 7,
   "id": "3f867849",
   "metadata": {},
   "outputs": [],
   "source": [
    "image_path2 = 'C:/Users/BIT/opencvEx/ch01/images/'\n",
    "img_files2 = os.listdir(image_path2)"
   ]
  },
  {
   "cell_type": "code",
   "execution_count": 17,
   "id": "f006630e",
   "metadata": {},
   "outputs": [],
   "source": [
    "mylist=[]\n",
    "img_files2\n",
    "for img in img_files2:\n",
    "    filename, extension = os.path.splitext(img) \n",
    "    #print('filename:{}'.format(filename))\n",
    "    #print('ext:{}'.format(extension))\n",
    "    if extension==\".jpg\":\n",
    "        mylist.append(img)"
   ]
  },
  {
   "cell_type": "code",
   "execution_count": 18,
   "id": "2f8533a4",
   "metadata": {},
   "outputs": [
    {
     "data": {
      "text/plain": [
       "['autumn_forest_park_128379_1920x1080.jpg',\n",
       " 'boat_mountains_lake_135258_1920x1080.jpg',\n",
       " 'forest_fog_trees_128751_1920x1080.jpg',\n",
       " 'pier_dock_sea_dusk_shore_118549_1920x1080.jpg',\n",
       " 'road_marking_evening_clouds_horizon_120298_1920x1080.jpg']"
      ]
     },
     "execution_count": 18,
     "metadata": {},
     "output_type": "execute_result"
    }
   ],
   "source": [
    "mylist"
   ]
  },
  {
   "cell_type": "code",
   "execution_count": null,
   "id": "468af2dd",
   "metadata": {},
   "outputs": [],
   "source": []
  }
 ],
 "metadata": {
  "kernelspec": {
   "display_name": "Python 3",
   "language": "python",
   "name": "python3"
  },
  "language_info": {
   "codemirror_mode": {
    "name": "ipython",
    "version": 3
   },
   "file_extension": ".py",
   "mimetype": "text/x-python",
   "name": "python",
   "nbconvert_exporter": "python",
   "pygments_lexer": "ipython3",
   "version": "3.7.10"
  }
 },
 "nbformat": 4,
 "nbformat_minor": 5
}
