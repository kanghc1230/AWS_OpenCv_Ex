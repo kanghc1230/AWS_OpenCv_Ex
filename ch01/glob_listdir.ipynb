{
 "cells": [
  {
   "cell_type": "code",
   "execution_count": 34,
   "id": "87002caa",
   "metadata": {},
   "outputs": [],
   "source": [
    "import sys\n",
    "import glob\n",
    "import cv2\n",
    "import os"
   ]
  },
  {
   "cell_type": "code",
   "execution_count": 38,
   "id": "5768fdd5",
   "metadata": {},
   "outputs": [],
   "source": [
    "image_path = 'C:/Users/kbg39/OpencvEx/ch01/images/*.jpg'\n",
    "img_files = glob.glob(image_path)\n",
    "#img_files2 = os.listdir('\\\\imaage\\\\*)"
   ]
  },
  {
   "cell_type": "code",
   "execution_count": 39,
   "id": "d80e8997",
   "metadata": {},
   "outputs": [
    {
     "data": {
      "text/plain": [
       "['C:/Users/kbg39/OpencvEx/ch01/images\\\\autumn_forest_park_128379_1920x1080.jpg',\n",
       " 'C:/Users/kbg39/OpencvEx/ch01/images\\\\boat_mountains_lake_135258_1920x1080.jpg',\n",
       " 'C:/Users/kbg39/OpencvEx/ch01/images\\\\forest_fog_trees_128751_1920x1080.jpg',\n",
       " 'C:/Users/kbg39/OpencvEx/ch01/images\\\\pier_dock_sea_dusk_shore_118549_1920x1080.jpg',\n",
       " 'C:/Users/kbg39/OpencvEx/ch01/images\\\\road_marking_evening_clouds_horizon_120298_1920x1080.jpg']"
      ]
     },
     "execution_count": 39,
     "metadata": {},
     "output_type": "execute_result"
    }
   ],
   "source": [
    "img_files"
   ]
  },
  {
   "cell_type": "code",
   "execution_count": 29,
   "id": "da33b007",
   "metadata": {},
   "outputs": [
    {
     "name": "stdout",
     "output_type": "stream",
     "text": [
      "\\\n"
     ]
    }
   ],
   "source": [
    "print(os.path.sep)"
   ]
  },
  {
   "cell_type": "code",
   "execution_count": 42,
   "id": "f9c64d11",
   "metadata": {},
   "outputs": [],
   "source": [
    "image_path2 ='C:/Users/kbg39/OpencvEx/ch01/images/'\n",
    "img_files2 = os.listdir(image_path2)"
   ]
  },
  {
   "cell_type": "code",
   "execution_count": 46,
   "id": "c833d294",
   "metadata": {},
   "outputs": [],
   "source": [
    "mylist=[]\n",
    "img_files2\n",
    "for img in img_files2:\n",
    "    filename, extension = os.path.splitext(img)\n",
    "    #print('filename :{}'.format(filename) )\n",
    "    #print('ext : {}'.format(extension) )\n",
    "    if extension==\".jpg\":\n",
    "        mylist.append(img)"
   ]
  },
  {
   "cell_type": "code",
   "execution_count": 47,
   "id": "98a46610",
   "metadata": {},
   "outputs": [
    {
     "data": {
      "text/plain": [
       "['autumn_forest_park_128379_1920x1080.jpg',\n",
       " 'boat_mountains_lake_135258_1920x1080.jpg',\n",
       " 'forest_fog_trees_128751_1920x1080.jpg',\n",
       " 'pier_dock_sea_dusk_shore_118549_1920x1080.jpg',\n",
       " 'road_marking_evening_clouds_horizon_120298_1920x1080.jpg']"
      ]
     },
     "execution_count": 47,
     "metadata": {},
     "output_type": "execute_result"
    }
   ],
   "source": [
    "mylist"
   ]
  },
  {
   "cell_type": "code",
   "execution_count": null,
   "id": "2b142013",
   "metadata": {},
   "outputs": [],
   "source": []
  }
 ],
 "metadata": {
  "kernelspec": {
   "display_name": "Python 3",
   "language": "python",
   "name": "python3"
  },
  "language_info": {
   "codemirror_mode": {
    "name": "ipython",
    "version": 3
   },
   "file_extension": ".py",
   "mimetype": "text/x-python",
   "name": "python",
   "nbconvert_exporter": "python",
   "pygments_lexer": "ipython3",
   "version": "3.7.10"
  }
 },
 "nbformat": 4,
 "nbformat_minor": 5
}
